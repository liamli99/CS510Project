{
 "cells": [
  {
   "cell_type": "code",
   "execution_count": 14,
   "metadata": {},
   "outputs": [
    {
     "name": "stdout",
     "output_type": "stream",
     "text": [
      "[[1.]]\n"
     ]
    }
   ],
   "source": [
    "from sklearn.feature_extraction.text import TfidfVectorizer\n",
    "from sklearn.metrics.pairwise import cosine_similarity\n",
    "\n",
    "def test(input1, input2):\n",
    "    tfidf_vectorizer = TfidfVectorizer()\n",
    "    lst = [input1, input2]\n",
    "    tfidf_matrix = tfidf_vectorizer.fit_transform(lst)\n",
    "    similarity = cosine_similarity(tfidf_matrix[0], tfidf_matrix[1])\n",
    "\n",
    "    return similarity\n",
    "\n",
    "print(test(\"tomato apple banana onion fish\", \"banana fish apple onion tomato\"))"
   ]
  },
  {
   "cell_type": "code",
   "execution_count": 33,
   "metadata": {},
   "outputs": [
    {
     "name": "stdout",
     "output_type": "stream",
     "text": [
      "True\n"
     ]
    }
   ],
   "source": [
    "import re\n",
    "\n",
    "def not_include(lst, str):\n",
    "    return all(ele not in str for ele in lst)\n",
    "\n",
    "print (not_include(['soda', 'chicke'], \"tomato apple banana onion fish\"))"
   ]
  },
  {
   "cell_type": "code",
   "execution_count": 11,
   "metadata": {},
   "outputs": [
    {
     "name": "stdout",
     "output_type": "stream",
     "text": [
      "is are take took taken cat cat quiz quiz divide divided dry dried\n"
     ]
    }
   ],
   "source": [
    "import nltk\n",
    "from nltk.stem import WordNetLemmatizer\n",
    "from nltk.tokenize import word_tokenize\n",
    "\n",
    "def lemmatization(ingredients):\n",
    "    # nltk.download('wordnet')\n",
    "\n",
    "    lemmatizer = WordNetLemmatizer()\n",
    "    words_list = word_tokenize(ingredients)\n",
    "    \n",
    "    lemmatized_words_list = [lemmatizer.lemmatize(word) for word in words_list]\n",
    "    lemmatized_words_str = ' '.join(lemmatized_words_list)\n",
    "\n",
    "    return lemmatized_words_str\n",
    "\n",
    "print(lemmatization(\"is are take took taken cat cats quiz quizzes divide divided dry dried\"))\n",
    "    "
   ]
  },
  {
   "cell_type": "code",
   "execution_count": 10,
   "metadata": {},
   "outputs": [
    {
     "name": "stdout",
     "output_type": "stream",
     "text": [
      "be be take take take cat cat quiz quiz divide divide dry dry\n"
     ]
    }
   ],
   "source": [
    "import spacy\n",
    "\n",
    "def lemmatization(ingredients):\n",
    "    # spacy.cli.download(\"en_core_web_sm\")\n",
    "    # Load the English NLP model\n",
    "    nlp = spacy.load(\"en_core_web_sm\")\n",
    "\n",
    "    # Process the text\n",
    "    doc = nlp(ingredients)\n",
    "\n",
    "    # Lemmatize each token\n",
    "    lemmatized_words_list = [token.lemma_ for token in doc]\n",
    "    lemmatized_words_str = ' '.join(lemmatized_words_list)\n",
    "    \n",
    "    return lemmatized_words_str\n",
    "\n",
    "print(lemmatization(\"is are take took taken cat cats quiz quizzes divide divided dry dried\"))"
   ]
  },
  {
   "cell_type": "code",
   "execution_count": 2,
   "metadata": {},
   "outputs": [],
   "source": [
    "from PIL import Image\n",
    "\n",
    "# Open an image file\n",
    "image = Image.open('archive/images/miso-butter-roast-chicken-acorn-squash-panzanella.jpg')\n",
    "\n",
    "# Display the image\n",
    "image.show()"
   ]
  }
 ],
 "metadata": {
  "kernelspec": {
   "display_name": "base",
   "language": "python",
   "name": "python3"
  },
  "language_info": {
   "codemirror_mode": {
    "name": "ipython",
    "version": 3
   },
   "file_extension": ".py",
   "mimetype": "text/x-python",
   "name": "python",
   "nbconvert_exporter": "python",
   "pygments_lexer": "ipython3",
   "version": "3.10.14"
  }
 },
 "nbformat": 4,
 "nbformat_minor": 2
}
