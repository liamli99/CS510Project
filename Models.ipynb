{
 "cells": [
  {
   "cell_type": "markdown",
   "id": "952d0e90",
   "metadata": {},
   "source": [
    "## Import Data"
   ]
  },
  {
   "cell_type": "code",
   "execution_count": 1,
   "id": "1124f9f5",
   "metadata": {},
   "outputs": [],
   "source": [
    "import pickle\n",
    "data = pickle.load(open(\"data.pkl\", 'rb'))"
   ]
  },
  {
   "cell_type": "markdown",
   "id": "8d18532b",
   "metadata": {},
   "source": [
    "## Models\n",
    "### Feature Extraction\n",
    "1. Bag of words\n",
    "2. TF-IDF\n",
    "3. Word Embeddings: Word2Vec\n",
    "4. BERT: can be used to process input value\n",
    "\n",
    "### Similarity model\n",
    "1. Cosine Similarity\n",
    "3. ...\n",
    "\n",
    "BERT + cosine similarity？"
   ]
  },
  {
   "cell_type": "code",
   "execution_count": 2,
   "id": "541b78c8",
   "metadata": {
    "scrolled": true
   },
   "outputs": [
    {
     "name": "stdout",
     "output_type": "stream",
     "text": [
      "['Pickled Red Onions', 'R-Rated Onions', 'Pickled Red Onions', 'Fried Onions', 'Quick Pickled Onions']\n"
     ]
    }
   ],
   "source": [
    "from sklearn.feature_extraction.text import TfidfVectorizer\n",
    "# from sklearn.feature_extraction.text import CountVectorizer\n",
    "from sklearn.metrics.pairwise import cosine_similarity\n",
    "\n",
    "import re\n",
    "\n",
    "def recommend1(title, df):\n",
    "    tfidf_vectorizer = TfidfVectorizer()\n",
    "    tfidf_matrix = tfidf_vectorizer.fit_transform(df['Cleaned_Ingredients'])\n",
    "    similarity = cosine_similarity(tfidf_matrix)\n",
    "    \n",
    "    index = df[df['Title'] == title].index[0]\n",
    "    recommended_list = sorted(list(enumerate(similarity[index])), reverse=True, key=lambda x: x[1])\n",
    "    recommended_recipes = []\n",
    "    \n",
    "    for i in recommended_list[0:5]:\n",
    "        recommended_recipes.append(df.iloc[i[0]].Title)\n",
    "    \n",
    "    return recommended_recipes\n",
    "\n",
    "def recommend2(inputValue1, inputValue2, df):\n",
    "    filtered_df = df.copy()\n",
    "\n",
    "    def not_include(lst, str):\n",
    "        return all(ele not in str for ele in lst)\n",
    "    \n",
    "    if inputValue1 != \"\":\n",
    "        inputValue1_lst = re.split('[, ]+', inputValue1.lower())\n",
    "        mask = filtered_df.apply(lambda row: not_include(inputValue1_lst, row['Cleaned_Ingredients']), axis=1)\n",
    "        filtered_df = filtered_df[mask]\n",
    "        \n",
    "    tfidf_vectorizer = TfidfVectorizer()\n",
    "\n",
    "    all_texts = filtered_df['Cleaned_Ingredients'].tolist() + [inputValue2]\n",
    "    tfidf_matrix = tfidf_vectorizer.fit_transform(all_texts)\n",
    "\n",
    "    input_vector = tfidf_matrix[-1]\n",
    "    similarity = cosine_similarity(tfidf_matrix[:-1], input_vector)\n",
    "\n",
    "    filtered_df['Similarity'] = similarity.flatten()\n",
    "\n",
    "    recommended_list = filtered_df.sort_values(by='Similarity', ascending=False).head(5)\n",
    "    recommended_recipes = []\n",
    "    \n",
    "    for recipes in recommended_list['Title']:\n",
    "        recommended_recipes.append(recipes)\n",
    "        \n",
    "    return recommended_recipes\n",
    "\n",
    "# print(recommend1(\"Crispy Salt and Pepper Potatoes\", data))\n",
    "print(recommend2(\"potato powder\", \"onion\", data))"
   ]
  },
  {
   "cell_type": "markdown",
   "id": "c1fcd9d7",
   "metadata": {},
   "source": [
    "## TODO: \n",
    "1. Data Cleaning \n",
    "2. Models for feature extraction & similarity, NN & DL? Luozi Xiong\n",
    "3. 如何处理input value: Lingge Wu \n",
    "4. 更多功能\n",
    "5. 做一个API  "
   ]
  }
 ],
 "metadata": {
  "kernelspec": {
   "display_name": "Python 3 (ipykernel)",
   "language": "python",
   "name": "python3"
  },
  "language_info": {
   "codemirror_mode": {
    "name": "ipython",
    "version": 3
   },
   "file_extension": ".py",
   "mimetype": "text/x-python",
   "name": "python",
   "nbconvert_exporter": "python",
   "pygments_lexer": "ipython3",
   "version": "3.10.14"
  }
 },
 "nbformat": 4,
 "nbformat_minor": 5
}
